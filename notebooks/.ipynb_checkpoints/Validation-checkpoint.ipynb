{
 "cells": [
  {
   "cell_type": "code",
   "execution_count": 16,
   "metadata": {
    "collapsed": false
   },
   "outputs": [],
   "source": [
    "import os\n",
    "import pickle\n",
    "import numpy as np\n",
    "import pandas as pd\n",
    "from os import path\n",
    "import seaborn as sns\n",
    "from scipy import sparse, io\n",
    "import matplotlib.pyplot as plt\n",
    "from sklearn.metrics import log_loss\n",
    "from scipy.sparse import csr_matrix, hstack\n",
    "from dotenv import load_dotenv, find_dotenv\n",
    "from sklearn.metrics import confusion_matrix\n",
    "from sklearn.preprocessing import LabelEncoder\n",
    "from sklearn.linear_model import LogisticRegression\n",
    "from sklearn.cross_validation import StratifiedKFold\n",
    "from sklearn.cross_validation import train_test_split\n",
    "from sklearn.metrics import make_scorer, f1_score, confusion_matrix\n",
    "%matplotlib notebook\n",
    "\n",
    "dotenv_path = find_dotenv()\n",
    "load_dotenv(dotenv_path)\n",
    "\n",
    "\n",
    "RAW_DATA_DIR = os.environ.get(\"RAW_DATA_DIR\")\n",
    "FEATURES_DATA_DIR = os.environ.get(\"FEATURES_DIR\")\n",
    "MODELS_DIR = os.environ.get(\"MODELS_DIR\")\n",
    "\n"
   ]
  },
  {
   "cell_type": "code",
   "execution_count": null,
   "metadata": {
    "collapsed": true
   },
   "outputs": [],
   "source": [
    "data = io.mmread(path.join(FEATURES_DATA_DIR, 'sparse_train_p_al_d')).tocsr()\n",
    "gatrain = pd.read_csv(os.path.join(RAW_DATA_DIR,'gender_age_train.csv'),\n",
    "                      index_col='device_id')\n",
    "labels = gatrain['group']\n",
    "targetencoder = LabelEncoder().fit(labels)\n",
    "y_labels = targetencoder.transform(labels)\n",
    "nclasses = len(targetencoder.classes_)\n",
    "\n",
    "X, X_dev, y, y_dev = train_test_split(data,\n",
    "                                      y_labels,\n",
    "                                      test_size=0.20,\n",
    "                                      random_state=0)\n",
    "\n"
   ]
  },
  {
   "cell_type": "code",
   "execution_count": null,
   "metadata": {
    "collapsed": true
   },
   "outputs": [],
   "source": [
    "clf = LogisticRegression(C=0.03, multi_class='multinomial', solver='newton-cg', n_jobs=4)\n",
    "clf.fit(X, y)\n",
    "\n",
    "pred_proba = clf.predict_proba(X_dev)\n",
    "\n"
   ]
  },
  {
   "cell_type": "code",
   "execution_count": null,
   "metadata": {
    "collapsed": false
   },
   "outputs": [],
   "source": [
    "pred = pd.DataFrame(pred_proba).idxmax(axis=1)\n",
    "pred = pred.reset_index()\n",
    "pred = pred.rename(columns={0:'encoded'}).drop(['index'],1)\n",
    "pred['de-encoded'] = targetencoder.inverse_transform(pred['encoded'])\n",
    "pred['baseline'] = pd.Series(7, index=np.arange(len(pred)))\n",
    "f1_score(y_dev, pred['encoded'], average='weighted')\n",
    "\n",
    "f1_score(y_dev, pred['baseline'], average='weighted')\n",
    "\n",
    "y_dev = pd.DataFrame(y_dev).reset_index().drop(['index'],1)\n",
    "pred = pred.rename(columns={0:'encoded'})\n",
    "y_dev['de-encoded'] = targetencoder.inverse_transform(y_dev[0])\n",
    "\n",
    "cm = confusion_matrix(y_dev['de-encoded'], pred['de-encoded'])\n",
    "labels = targetencoder.inverse_transform(range(11))\n",
    "with sns.axes_style('white'):\n",
    "    plt.figure(figsize=(15,15))\n",
    "    ax = sns.heatmap(cm, square=True, xticklabels=labels, yticklabels=labels, \n",
    "                     annot=True, cmap=plt.cm.jet, fmt='.00f')\n",
    "    plt.xticks(rotation=45) \n",
    "    plt.yticks(rotation=0) \n",
    "    plt.xlabel('Predicted')\n",
    "    plt.ylabel('True')"
   ]
  },
  {
   "cell_type": "code",
   "execution_count": null,
   "metadata": {
    "collapsed": false
   },
   "outputs": [],
   "source": [
    "pred['base_de-encoded'] = targetencoder.inverse_transform(pred['baseline'])\n",
    "\n",
    "cm = confusion_matrix(y_dev['de-encoded'], pred['base_de-encoded'])\n",
    "labels = targetencoder.inverse_transform(range(11))\n",
    "with sns.axes_style('white'):\n",
    "    plt.figure(figsize=(15,15))\n",
    "    ax = sns.heatmap(cm, square=True, xticklabels=labels, yticklabels=labels, \n",
    "                     annot=True, cmap=plt.cm.jet, fmt='.00f')\n",
    "    plt.xticks(rotation=45) \n",
    "    plt.yticks(rotation=0) \n",
    "    plt.xlabel('Predicted')\n",
    "    plt.ylabel('True')"
   ]
  },
  {
   "cell_type": "code",
   "execution_count": null,
   "metadata": {
    "collapsed": true
   },
   "outputs": [],
   "source": []
  },
  {
   "cell_type": "code",
   "execution_count": null,
   "metadata": {
    "collapsed": true
   },
   "outputs": [],
   "source": []
  }
 ],
 "metadata": {
  "kernelspec": {
   "display_name": "Python 2",
   "language": "python",
   "name": "python2"
  },
  "language_info": {
   "codemirror_mode": {
    "name": "ipython",
    "version": 2
   },
   "file_extension": ".py",
   "mimetype": "text/x-python",
   "name": "python",
   "nbconvert_exporter": "python",
   "pygments_lexer": "ipython2",
   "version": "2.7.11"
  }
 },
 "nbformat": 4,
 "nbformat_minor": 0
}
